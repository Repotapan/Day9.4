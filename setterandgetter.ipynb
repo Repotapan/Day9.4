{
 "cells": [
  {
   "cell_type": "code",
   "execution_count": 1,
   "id": "779ffe1c-91cc-4262-908a-cada9fef545f",
   "metadata": {},
   "outputs": [],
   "source": [
    "class pwskills:\n",
    "    def __init__(self,course_price,course_name):\n",
    "        self.__course_price=course_price\n",
    "        self.course_name=course_name"
   ]
  },
  {
   "cell_type": "code",
   "execution_count": 3,
   "id": "6916cef6-1142-4460-9a39-ab6e2109e2e0",
   "metadata": {},
   "outputs": [],
   "source": [
    "pw=pwskills(3500,\"data science masters\")"
   ]
  },
  {
   "cell_type": "code",
   "execution_count": 4,
   "id": "a4d40bf3-28b2-4601-8e67-fb51521ae736",
   "metadata": {},
   "outputs": [
    {
     "data": {
      "text/plain": [
       "'data science masters'"
      ]
     },
     "execution_count": 4,
     "metadata": {},
     "output_type": "execute_result"
    }
   ],
   "source": [
    "pw.course_name"
   ]
  },
  {
   "cell_type": "code",
   "execution_count": 7,
   "id": "953820c3-9777-49c3-9091-2aa2fee22b3c",
   "metadata": {},
   "outputs": [
    {
     "data": {
      "text/plain": [
       "3500"
      ]
     },
     "execution_count": 7,
     "metadata": {},
     "output_type": "execute_result"
    }
   ],
   "source": [
    "pw._pwskills__course_price"
   ]
  },
  {
   "cell_type": "code",
   "execution_count": 19,
   "id": "98130e39-ecbd-42cc-95d5-51c4e584b99e",
   "metadata": {},
   "outputs": [],
   "source": [
    "class pwskills1:\n",
    "    def __init__(self,course_price,course_name):\n",
    "        self.__course_price=course_price\n",
    "        self.course_name=course_name\n",
    "    @property\n",
    "    def course_price_access(self):\n",
    "        return self.__course_price\n",
    "    @course_price_access.setter\n",
    "    def course_price_set(self,price):\n",
    "        if price <= 3500:\n",
    "            pass\n",
    "        else:\n",
    "             self.__course_price=price\n",
    "    @course_price_access.deleter\n",
    "    def delete_course_price(self):\n",
    "        del self.__course_price\n",
    "            "
   ]
  },
  {
   "cell_type": "code",
   "execution_count": 20,
   "id": "ec1ddeca-7562-480c-a04d-e6ef0bebdcb9",
   "metadata": {},
   "outputs": [],
   "source": [
    "pw1=pwskills1(3500,\"data science masters\")"
   ]
  },
  {
   "cell_type": "code",
   "execution_count": 21,
   "id": "3a436192-d760-4b65-bcb6-329786f09a9e",
   "metadata": {},
   "outputs": [
    {
     "data": {
      "text/plain": [
       "3500"
      ]
     },
     "execution_count": 21,
     "metadata": {},
     "output_type": "execute_result"
    }
   ],
   "source": [
    "pw1. course_price_access"
   ]
  },
  {
   "cell_type": "code",
   "execution_count": 23,
   "id": "5a81ac44-3f5d-4cfc-bea1-f9773b7c0bdf",
   "metadata": {},
   "outputs": [],
   "source": [
    "del pw1.delete_course_price"
   ]
  },
  {
   "cell_type": "code",
   "execution_count": 15,
   "id": "c558d1f2-87c5-4a7c-b8da-cba8c6f5dba8",
   "metadata": {},
   "outputs": [],
   "source": [
    "pw1. course_price_set = 4500"
   ]
  },
  {
   "cell_type": "code",
   "execution_count": 18,
   "id": "443c3b8c-5a0c-4498-ac57-7224fb3bd3db",
   "metadata": {},
   "outputs": [
    {
     "data": {
      "text/plain": [
       "4500"
      ]
     },
     "execution_count": 18,
     "metadata": {},
     "output_type": "execute_result"
    }
   ],
   "source": [
    "pw1.course_price_access"
   ]
  },
  {
   "cell_type": "code",
   "execution_count": null,
   "id": "9dd3b14c-ff2a-41c5-b2d4-db820b269227",
   "metadata": {},
   "outputs": [],
   "source": []
  }
 ],
 "metadata": {
  "kernelspec": {
   "display_name": "Python 3 (ipykernel)",
   "language": "python",
   "name": "python3"
  },
  "language_info": {
   "codemirror_mode": {
    "name": "ipython",
    "version": 3
   },
   "file_extension": ".py",
   "mimetype": "text/x-python",
   "name": "python",
   "nbconvert_exporter": "python",
   "pygments_lexer": "ipython3",
   "version": "3.10.8"
  }
 },
 "nbformat": 4,
 "nbformat_minor": 5
}
